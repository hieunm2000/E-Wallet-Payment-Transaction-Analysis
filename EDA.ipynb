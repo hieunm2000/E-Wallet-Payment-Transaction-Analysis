{
  "nbformat": 4,
  "nbformat_minor": 0,
  "metadata": {
    "colab": {
      "provenance": []
    },
    "kernelspec": {
      "name": "python3",
      "display_name": "Python 3"
    },
    "language_info": {
      "name": "python"
    }
  },
  "cells": [
    {
      "cell_type": "markdown",
      "source": [
        "# **Câu 1**\n",
        "- import DataFrame"
      ],
      "metadata": {
        "id": "b78sHBbc0A2O"
      }
    },
    {
      "cell_type": "code",
      "source": [
        "import pandas as pd\n",
        "import numpy as np"
      ],
      "metadata": {
        "id": "Aa4qdHEHS8Qx"
      },
      "execution_count": null,
      "outputs": []
    },
    {
      "cell_type": "markdown",
      "source": [
        "- Connect với gg drive\n",
        "# Mục mới"
      ],
      "metadata": {
        "id": "un4c4i4GTRu0"
      }
    },
    {
      "cell_type": "code",
      "source": [
        "from google.colab import drive\n",
        "drive.mount('/content/drive')"
      ],
      "metadata": {
        "colab": {
          "base_uri": "https://localhost:8080/"
        },
        "id": "tVRvjVzUTXLX",
        "outputId": "d7c119fc-22ae-43af-d6f8-c281ccc6eb7b"
      },
      "execution_count": null,
      "outputs": [
        {
          "output_type": "stream",
          "name": "stdout",
          "text": [
            "Mounted at /content/drive\n"
          ]
        }
      ]
    },
    {
      "cell_type": "markdown",
      "source": [
        "# - Import các file CSV"
      ],
      "metadata": {
        "id": "EcSUOaMjUR8c"
      }
    },
    {
      "cell_type": "code",
      "source": [
        "from google.colab import files\n",
        "uploaded = files.upload()"
      ],
      "metadata": {
        "colab": {
          "base_uri": "https://localhost:8080/",
          "height": 38
        },
        "id": "zdB_Gh9QUVm_",
        "outputId": "047ddbfd-0745-4c2a-ef7b-dba4e8eeda57"
      },
      "execution_count": null,
      "outputs": [
        {
          "output_type": "display_data",
          "data": {
            "text/plain": [
              "<IPython.core.display.HTML object>"
            ],
            "text/html": [
              "\n",
              "     <input type=\"file\" id=\"files-732e1a69-0c7e-4ebd-bb78-988b7559624b\" name=\"files[]\" multiple disabled\n",
              "        style=\"border:none\" />\n",
              "     <output id=\"result-732e1a69-0c7e-4ebd-bb78-988b7559624b\">\n",
              "      Upload widget is only available when the cell has been executed in the\n",
              "      current browser session. Please rerun this cell to enable.\n",
              "      </output>\n",
              "      <script>// Copyright 2017 Google LLC\n",
              "//\n",
              "// Licensed under the Apache License, Version 2.0 (the \"License\");\n",
              "// you may not use this file except in compliance with the License.\n",
              "// You may obtain a copy of the License at\n",
              "//\n",
              "//      http://www.apache.org/licenses/LICENSE-2.0\n",
              "//\n",
              "// Unless required by applicable law or agreed to in writing, software\n",
              "// distributed under the License is distributed on an \"AS IS\" BASIS,\n",
              "// WITHOUT WARRANTIES OR CONDITIONS OF ANY KIND, either express or implied.\n",
              "// See the License for the specific language governing permissions and\n",
              "// limitations under the License.\n",
              "\n",
              "/**\n",
              " * @fileoverview Helpers for google.colab Python module.\n",
              " */\n",
              "(function(scope) {\n",
              "function span(text, styleAttributes = {}) {\n",
              "  const element = document.createElement('span');\n",
              "  element.textContent = text;\n",
              "  for (const key of Object.keys(styleAttributes)) {\n",
              "    element.style[key] = styleAttributes[key];\n",
              "  }\n",
              "  return element;\n",
              "}\n",
              "\n",
              "// Max number of bytes which will be uploaded at a time.\n",
              "const MAX_PAYLOAD_SIZE = 100 * 1024;\n",
              "\n",
              "function _uploadFiles(inputId, outputId) {\n",
              "  const steps = uploadFilesStep(inputId, outputId);\n",
              "  const outputElement = document.getElementById(outputId);\n",
              "  // Cache steps on the outputElement to make it available for the next call\n",
              "  // to uploadFilesContinue from Python.\n",
              "  outputElement.steps = steps;\n",
              "\n",
              "  return _uploadFilesContinue(outputId);\n",
              "}\n",
              "\n",
              "// This is roughly an async generator (not supported in the browser yet),\n",
              "// where there are multiple asynchronous steps and the Python side is going\n",
              "// to poll for completion of each step.\n",
              "// This uses a Promise to block the python side on completion of each step,\n",
              "// then passes the result of the previous step as the input to the next step.\n",
              "function _uploadFilesContinue(outputId) {\n",
              "  const outputElement = document.getElementById(outputId);\n",
              "  const steps = outputElement.steps;\n",
              "\n",
              "  const next = steps.next(outputElement.lastPromiseValue);\n",
              "  return Promise.resolve(next.value.promise).then((value) => {\n",
              "    // Cache the last promise value to make it available to the next\n",
              "    // step of the generator.\n",
              "    outputElement.lastPromiseValue = value;\n",
              "    return next.value.response;\n",
              "  });\n",
              "}\n",
              "\n",
              "/**\n",
              " * Generator function which is called between each async step of the upload\n",
              " * process.\n",
              " * @param {string} inputId Element ID of the input file picker element.\n",
              " * @param {string} outputId Element ID of the output display.\n",
              " * @return {!Iterable<!Object>} Iterable of next steps.\n",
              " */\n",
              "function* uploadFilesStep(inputId, outputId) {\n",
              "  const inputElement = document.getElementById(inputId);\n",
              "  inputElement.disabled = false;\n",
              "\n",
              "  const outputElement = document.getElementById(outputId);\n",
              "  outputElement.innerHTML = '';\n",
              "\n",
              "  const pickedPromise = new Promise((resolve) => {\n",
              "    inputElement.addEventListener('change', (e) => {\n",
              "      resolve(e.target.files);\n",
              "    });\n",
              "  });\n",
              "\n",
              "  const cancel = document.createElement('button');\n",
              "  inputElement.parentElement.appendChild(cancel);\n",
              "  cancel.textContent = 'Cancel upload';\n",
              "  const cancelPromise = new Promise((resolve) => {\n",
              "    cancel.onclick = () => {\n",
              "      resolve(null);\n",
              "    };\n",
              "  });\n",
              "\n",
              "  // Wait for the user to pick the files.\n",
              "  const files = yield {\n",
              "    promise: Promise.race([pickedPromise, cancelPromise]),\n",
              "    response: {\n",
              "      action: 'starting',\n",
              "    }\n",
              "  };\n",
              "\n",
              "  cancel.remove();\n",
              "\n",
              "  // Disable the input element since further picks are not allowed.\n",
              "  inputElement.disabled = true;\n",
              "\n",
              "  if (!files) {\n",
              "    return {\n",
              "      response: {\n",
              "        action: 'complete',\n",
              "      }\n",
              "    };\n",
              "  }\n",
              "\n",
              "  for (const file of files) {\n",
              "    const li = document.createElement('li');\n",
              "    li.append(span(file.name, {fontWeight: 'bold'}));\n",
              "    li.append(span(\n",
              "        `(${file.type || 'n/a'}) - ${file.size} bytes, ` +\n",
              "        `last modified: ${\n",
              "            file.lastModifiedDate ? file.lastModifiedDate.toLocaleDateString() :\n",
              "                                    'n/a'} - `));\n",
              "    const percent = span('0% done');\n",
              "    li.appendChild(percent);\n",
              "\n",
              "    outputElement.appendChild(li);\n",
              "\n",
              "    const fileDataPromise = new Promise((resolve) => {\n",
              "      const reader = new FileReader();\n",
              "      reader.onload = (e) => {\n",
              "        resolve(e.target.result);\n",
              "      };\n",
              "      reader.readAsArrayBuffer(file);\n",
              "    });\n",
              "    // Wait for the data to be ready.\n",
              "    let fileData = yield {\n",
              "      promise: fileDataPromise,\n",
              "      response: {\n",
              "        action: 'continue',\n",
              "      }\n",
              "    };\n",
              "\n",
              "    // Use a chunked sending to avoid message size limits. See b/62115660.\n",
              "    let position = 0;\n",
              "    do {\n",
              "      const length = Math.min(fileData.byteLength - position, MAX_PAYLOAD_SIZE);\n",
              "      const chunk = new Uint8Array(fileData, position, length);\n",
              "      position += length;\n",
              "\n",
              "      const base64 = btoa(String.fromCharCode.apply(null, chunk));\n",
              "      yield {\n",
              "        response: {\n",
              "          action: 'append',\n",
              "          file: file.name,\n",
              "          data: base64,\n",
              "        },\n",
              "      };\n",
              "\n",
              "      let percentDone = fileData.byteLength === 0 ?\n",
              "          100 :\n",
              "          Math.round((position / fileData.byteLength) * 100);\n",
              "      percent.textContent = `${percentDone}% done`;\n",
              "\n",
              "    } while (position < fileData.byteLength);\n",
              "  }\n",
              "\n",
              "  // All done.\n",
              "  yield {\n",
              "    response: {\n",
              "      action: 'complete',\n",
              "    }\n",
              "  };\n",
              "}\n",
              "\n",
              "scope.google = scope.google || {};\n",
              "scope.google.colab = scope.google.colab || {};\n",
              "scope.google.colab._files = {\n",
              "  _uploadFiles,\n",
              "  _uploadFilesContinue,\n",
              "};\n",
              "})(self);\n",
              "</script> "
            ]
          },
          "metadata": {}
        }
      ]
    },
    {
      "cell_type": "markdown",
      "source": [
        "# - Gộp payment_report.csv và product.csv"
      ],
      "metadata": {
        "id": "IfLSFN7UVnsL"
      }
    },
    {
      "cell_type": "code",
      "source": [
        "payment_report = pd.read_csv('payment_report.csv')\n",
        "product = pd.read_csv('product.csv')\n",
        "transactions = pd.read_csv('transactions.csv')"
      ],
      "metadata": {
        "id": "C_pkwFWIV8ne"
      },
      "execution_count": null,
      "outputs": []
    },
    {
      "cell_type": "code",
      "source": [
        "payment_enriched = pd.merge(payment_report, product, on='product_id', how='left')"
      ],
      "metadata": {
        "id": "gCR1EwDmbJDK"
      },
      "execution_count": null,
      "outputs": []
    },
    {
      "cell_type": "markdown",
      "source": [
        "# - Check missing data"
      ],
      "metadata": {
        "id": "IpAUBHcQbR2C"
      }
    },
    {
      "cell_type": "code",
      "source": [
        "missing_data_payment = payment_enriched.isnull().sum()\n",
        "missing_data_transaction = transactions.isnull().sum()\n",
        "\n",
        "print(\"Missing data in payment_enriched:\\n\", missing_data_payment)\n",
        "print(\"\\nMissing data in transactions:\\n\", missing_data_transaction)"
      ],
      "metadata": {
        "colab": {
          "base_uri": "https://localhost:8080/"
        },
        "id": "NFVQN33ibUOf",
        "outputId": "7ab50618-b856-4541-91d9-9fecfd699a91",
        "collapsed": true
      },
      "execution_count": null,
      "outputs": [
        {
          "output_type": "stream",
          "name": "stdout",
          "text": [
            "Missing data in payment_enriched:\n",
            " report_month      0\n",
            "payment_group     0\n",
            "product_id        0\n",
            "source_id         0\n",
            "volume            0\n",
            "category         22\n",
            "team_own         22\n",
            "dtype: int64\n",
            "\n",
            "Missing data in transactions:\n",
            " transaction_id          0\n",
            "merchant_id             0\n",
            "volume                  0\n",
            "transType               0\n",
            "transStatus             0\n",
            "sender_id           49059\n",
            "receiver_id        164795\n",
            "extra_info        1317907\n",
            "timeStamp               0\n",
            "dtype: int64\n"
          ]
        }
      ]
    },
    {
      "cell_type": "markdown",
      "source": [
        "# **- Check duplicate**"
      ],
      "metadata": {
        "id": "0tX9GtYuc9p9"
      }
    },
    {
      "cell_type": "code",
      "source": [
        "duplicate_payment = payment_enriched.duplicated().sum()\n",
        "duplicate_transaction = transactions.duplicated().sum()\n",
        "\n",
        "print(\"Duplicate in payment_enriched:\", duplicate_payment)\n",
        "print(\"Duplicate in transactions:\", duplicate_transaction)"
      ],
      "metadata": {
        "colab": {
          "base_uri": "https://localhost:8080/"
        },
        "id": "WKbfRiG4c_9Q",
        "outputId": "03de71ae-ba29-4fb8-c2fb-30e02a6202d5"
      },
      "execution_count": null,
      "outputs": [
        {
          "output_type": "stream",
          "name": "stdout",
          "text": [
            "Duplicate in payment_enriched: 0\n",
            "Duplicate in transactions: 28\n"
          ]
        }
      ]
    },
    {
      "cell_type": "markdown",
      "source": [
        "# **Check incorrect data types**"
      ],
      "metadata": {
        "id": "EqzLCdvWerYb"
      }
    },
    {
      "cell_type": "code",
      "source": [
        "datatype_payment = payment_enriched.dtypes\n",
        "datatype_transaction = transactions.dtypes\n",
        "\n",
        "print(\"Datatype in payment_enriched:\\n\", datatype_payment)\n",
        "print(\"\\nDatatype in transactions:\\n\", datatype_transaction)"
      ],
      "metadata": {
        "colab": {
          "base_uri": "https://localhost:8080/"
        },
        "id": "kr4NbOrXe3mo",
        "outputId": "8835c87e-56cd-4684-8c64-6fe1589add38"
      },
      "execution_count": null,
      "outputs": [
        {
          "output_type": "stream",
          "name": "stdout",
          "text": [
            "Datatype in payment_enriched:\n",
            " report_month     object\n",
            "payment_group    object\n",
            "product_id        int64\n",
            "source_id         int64\n",
            "volume            int64\n",
            "category         object\n",
            "team_own         object\n",
            "dtype: object\n",
            "\n",
            "Datatype in transactions:\n",
            " transaction_id      int64\n",
            "merchant_id         int64\n",
            "volume              int64\n",
            "transType           int64\n",
            "transStatus         int64\n",
            "sender_id         float64\n",
            "receiver_id       float64\n",
            "extra_info         object\n",
            "timeStamp           int64\n",
            "dtype: object\n"
          ]
        }
      ]
    },
    {
      "cell_type": "markdown",
      "source": [
        "# **Summarize numerical data: any incorrect values?**"
      ],
      "metadata": {
        "id": "ZNsFreZhfhlV"
      }
    },
    {
      "cell_type": "code",
      "source": [
        "summarize_payment = payment_enriched.describe()\n",
        "summarize_transactions = transactions.describe()\n",
        "\n",
        "print(\"Summarize in payment_enriched:\\n\", summarize_payment)\n",
        "print(\"\\nSummarize in transaction:\\n\", summarize_transactions)"
      ],
      "metadata": {
        "colab": {
          "base_uri": "https://localhost:8080/"
        },
        "id": "bkIdc19mfkQA",
        "outputId": "9b491717-0fac-49b5-f754-d79af1620073"
      },
      "execution_count": null,
      "outputs": [
        {
          "output_type": "stream",
          "name": "stdout",
          "text": [
            "Summarize in payment_enriched:\n",
            "          product_id   source_id        volume\n",
            "count    919.000000  919.000000  9.190000e+02\n",
            "mean    1192.517954   44.875952  1.978574e+08\n",
            "std     1293.463329    0.910995  8.367595e+08\n",
            "min        3.000000   37.000000  5.500000e+03\n",
            "25%      640.000000   45.000000  1.250000e+06\n",
            "50%     1059.000000   45.000000  7.982015e+06\n",
            "75%     1585.000000   45.000000  5.447599e+07\n",
            "max    15067.000000   45.000000  1.383171e+10\n",
            "\n",
            "Summarize in transaction:\n",
            "        transaction_id   merchant_id        volume     transType   transStatus  \\\n",
            "count    1.324002e+06  1.324002e+06  1.324002e+06  1.324002e+06  1.324002e+06   \n",
            "mean     3.002233e+09  2.460318e+03  2.388059e+05  6.979222e+00 -1.204625e+01   \n",
            "std      1.042606e+07  3.304277e+03  9.681009e+05  7.459714e+00  5.577823e+01   \n",
            "min      3.000000e+09  5.000000e+00  1.000000e+00  2.000000e+00 -1.333000e+03   \n",
            "25%      3.001121e+09  3.050000e+02  1.000000e+04  2.000000e+00  1.000000e+00   \n",
            "50%      3.002200e+09  2.250000e+03  3.000000e+04  2.000000e+00  1.000000e+00   \n",
            "75%      3.003255e+09  2.270000e+03  1.000000e+05  8.000000e+00  1.000000e+00   \n",
            "max      6.000066e+09  1.625250e+05  7.869148e+07  3.000000e+01  1.000000e+00   \n",
            "\n",
            "          sender_id   receiver_id     timeStamp  \n",
            "count  1.274943e+06  1.159207e+06  1.324002e+06  \n",
            "mean   1.033938e+08  2.084884e+08  1.683130e+12  \n",
            "std    6.234305e+08  9.287794e+08  1.707815e+08  \n",
            "min    1.000001e+07 -6.300000e+01  1.682874e+12  \n",
            "25%    1.005657e+07  1.526700e+05  1.682994e+12  \n",
            "50%    1.094193e+07  7.025130e+06  1.683097e+12  \n",
            "75%    2.101266e+07  3.151238e+07  1.683269e+12  \n",
            "max    6.993439e+09  2.100000e+10  1.683479e+12  \n"
          ]
        }
      ]
    }
  ]
}