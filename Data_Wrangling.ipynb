{
  "nbformat": 4,
  "nbformat_minor": 0,
  "metadata": {
    "colab": {
      "provenance": []
    },
    "kernelspec": {
      "name": "python3",
      "display_name": "Python 3"
    },
    "language_info": {
      "name": "python"
    }
  },
  "cells": [
    {
      "cell_type": "markdown",
      "source": [
        "# **Câu 1**\n",
        "- import DataFrame"
      ],
      "metadata": {
        "id": "b78sHBbc0A2O"
      }
    },
    {
      "cell_type": "code",
      "source": [
        "import pandas as pd\n",
        "import numpy as np"
      ],
      "metadata": {
        "id": "Aa4qdHEHS8Qx"
      },
      "execution_count": null,
      "outputs": []
    },
    {
      "cell_type": "markdown",
      "source": [
        "- Connect với gg drive\n",
        "# Mục mới"
      ],
      "metadata": {
        "id": "un4c4i4GTRu0"
      }
    },
    {
      "cell_type": "code",
      "source": [
        "from google.colab import drive\n",
        "drive.mount('/content/drive')"
      ],
      "metadata": {
        "colab": {
          "base_uri": "https://localhost:8080/"
        },
        "id": "tVRvjVzUTXLX",
        "outputId": "106f75a8-dfe3-478a-e78b-dd3c728d3f93"
      },
      "execution_count": null,
      "outputs": [
        {
          "output_type": "stream",
          "name": "stdout",
          "text": [
            "Mounted at /content/drive\n"
          ]
        }
      ]
    },
    {
      "cell_type": "markdown",
      "source": [
        "# - Import các file CSV"
      ],
      "metadata": {
        "id": "EcSUOaMjUR8c"
      }
    },
    {
      "cell_type": "code",
      "source": [
        "from google.colab import files\n",
        "uploaded = files.upload()"
      ],
      "metadata": {
        "colab": {
          "base_uri": "https://localhost:8080/",
          "height": 142
        },
        "id": "zdB_Gh9QUVm_",
        "outputId": "92e57f3d-bcfb-4f2e-c9e1-1fef3beb8ef8"
      },
      "execution_count": null,
      "outputs": [
        {
          "output_type": "display_data",
          "data": {
            "text/plain": [
              "<IPython.core.display.HTML object>"
            ],
            "text/html": [
              "\n",
              "     <input type=\"file\" id=\"files-5329698f-dffe-4188-acfb-8e90e9ca16d2\" name=\"files[]\" multiple disabled\n",
              "        style=\"border:none\" />\n",
              "     <output id=\"result-5329698f-dffe-4188-acfb-8e90e9ca16d2\">\n",
              "      Upload widget is only available when the cell has been executed in the\n",
              "      current browser session. Please rerun this cell to enable.\n",
              "      </output>\n",
              "      <script>// Copyright 2017 Google LLC\n",
              "//\n",
              "// Licensed under the Apache License, Version 2.0 (the \"License\");\n",
              "// you may not use this file except in compliance with the License.\n",
              "// You may obtain a copy of the License at\n",
              "//\n",
              "//      http://www.apache.org/licenses/LICENSE-2.0\n",
              "//\n",
              "// Unless required by applicable law or agreed to in writing, software\n",
              "// distributed under the License is distributed on an \"AS IS\" BASIS,\n",
              "// WITHOUT WARRANTIES OR CONDITIONS OF ANY KIND, either express or implied.\n",
              "// See the License for the specific language governing permissions and\n",
              "// limitations under the License.\n",
              "\n",
              "/**\n",
              " * @fileoverview Helpers for google.colab Python module.\n",
              " */\n",
              "(function(scope) {\n",
              "function span(text, styleAttributes = {}) {\n",
              "  const element = document.createElement('span');\n",
              "  element.textContent = text;\n",
              "  for (const key of Object.keys(styleAttributes)) {\n",
              "    element.style[key] = styleAttributes[key];\n",
              "  }\n",
              "  return element;\n",
              "}\n",
              "\n",
              "// Max number of bytes which will be uploaded at a time.\n",
              "const MAX_PAYLOAD_SIZE = 100 * 1024;\n",
              "\n",
              "function _uploadFiles(inputId, outputId) {\n",
              "  const steps = uploadFilesStep(inputId, outputId);\n",
              "  const outputElement = document.getElementById(outputId);\n",
              "  // Cache steps on the outputElement to make it available for the next call\n",
              "  // to uploadFilesContinue from Python.\n",
              "  outputElement.steps = steps;\n",
              "\n",
              "  return _uploadFilesContinue(outputId);\n",
              "}\n",
              "\n",
              "// This is roughly an async generator (not supported in the browser yet),\n",
              "// where there are multiple asynchronous steps and the Python side is going\n",
              "// to poll for completion of each step.\n",
              "// This uses a Promise to block the python side on completion of each step,\n",
              "// then passes the result of the previous step as the input to the next step.\n",
              "function _uploadFilesContinue(outputId) {\n",
              "  const outputElement = document.getElementById(outputId);\n",
              "  const steps = outputElement.steps;\n",
              "\n",
              "  const next = steps.next(outputElement.lastPromiseValue);\n",
              "  return Promise.resolve(next.value.promise).then((value) => {\n",
              "    // Cache the last promise value to make it available to the next\n",
              "    // step of the generator.\n",
              "    outputElement.lastPromiseValue = value;\n",
              "    return next.value.response;\n",
              "  });\n",
              "}\n",
              "\n",
              "/**\n",
              " * Generator function which is called between each async step of the upload\n",
              " * process.\n",
              " * @param {string} inputId Element ID of the input file picker element.\n",
              " * @param {string} outputId Element ID of the output display.\n",
              " * @return {!Iterable<!Object>} Iterable of next steps.\n",
              " */\n",
              "function* uploadFilesStep(inputId, outputId) {\n",
              "  const inputElement = document.getElementById(inputId);\n",
              "  inputElement.disabled = false;\n",
              "\n",
              "  const outputElement = document.getElementById(outputId);\n",
              "  outputElement.innerHTML = '';\n",
              "\n",
              "  const pickedPromise = new Promise((resolve) => {\n",
              "    inputElement.addEventListener('change', (e) => {\n",
              "      resolve(e.target.files);\n",
              "    });\n",
              "  });\n",
              "\n",
              "  const cancel = document.createElement('button');\n",
              "  inputElement.parentElement.appendChild(cancel);\n",
              "  cancel.textContent = 'Cancel upload';\n",
              "  const cancelPromise = new Promise((resolve) => {\n",
              "    cancel.onclick = () => {\n",
              "      resolve(null);\n",
              "    };\n",
              "  });\n",
              "\n",
              "  // Wait for the user to pick the files.\n",
              "  const files = yield {\n",
              "    promise: Promise.race([pickedPromise, cancelPromise]),\n",
              "    response: {\n",
              "      action: 'starting',\n",
              "    }\n",
              "  };\n",
              "\n",
              "  cancel.remove();\n",
              "\n",
              "  // Disable the input element since further picks are not allowed.\n",
              "  inputElement.disabled = true;\n",
              "\n",
              "  if (!files) {\n",
              "    return {\n",
              "      response: {\n",
              "        action: 'complete',\n",
              "      }\n",
              "    };\n",
              "  }\n",
              "\n",
              "  for (const file of files) {\n",
              "    const li = document.createElement('li');\n",
              "    li.append(span(file.name, {fontWeight: 'bold'}));\n",
              "    li.append(span(\n",
              "        `(${file.type || 'n/a'}) - ${file.size} bytes, ` +\n",
              "        `last modified: ${\n",
              "            file.lastModifiedDate ? file.lastModifiedDate.toLocaleDateString() :\n",
              "                                    'n/a'} - `));\n",
              "    const percent = span('0% done');\n",
              "    li.appendChild(percent);\n",
              "\n",
              "    outputElement.appendChild(li);\n",
              "\n",
              "    const fileDataPromise = new Promise((resolve) => {\n",
              "      const reader = new FileReader();\n",
              "      reader.onload = (e) => {\n",
              "        resolve(e.target.result);\n",
              "      };\n",
              "      reader.readAsArrayBuffer(file);\n",
              "    });\n",
              "    // Wait for the data to be ready.\n",
              "    let fileData = yield {\n",
              "      promise: fileDataPromise,\n",
              "      response: {\n",
              "        action: 'continue',\n",
              "      }\n",
              "    };\n",
              "\n",
              "    // Use a chunked sending to avoid message size limits. See b/62115660.\n",
              "    let position = 0;\n",
              "    do {\n",
              "      const length = Math.min(fileData.byteLength - position, MAX_PAYLOAD_SIZE);\n",
              "      const chunk = new Uint8Array(fileData, position, length);\n",
              "      position += length;\n",
              "\n",
              "      const base64 = btoa(String.fromCharCode.apply(null, chunk));\n",
              "      yield {\n",
              "        response: {\n",
              "          action: 'append',\n",
              "          file: file.name,\n",
              "          data: base64,\n",
              "        },\n",
              "      };\n",
              "\n",
              "      let percentDone = fileData.byteLength === 0 ?\n",
              "          100 :\n",
              "          Math.round((position / fileData.byteLength) * 100);\n",
              "      percent.textContent = `${percentDone}% done`;\n",
              "\n",
              "    } while (position < fileData.byteLength);\n",
              "  }\n",
              "\n",
              "  // All done.\n",
              "  yield {\n",
              "    response: {\n",
              "      action: 'complete',\n",
              "    }\n",
              "  };\n",
              "}\n",
              "\n",
              "scope.google = scope.google || {};\n",
              "scope.google.colab = scope.google.colab || {};\n",
              "scope.google.colab._files = {\n",
              "  _uploadFiles,\n",
              "  _uploadFilesContinue,\n",
              "};\n",
              "})(self);\n",
              "</script> "
            ]
          },
          "metadata": {}
        },
        {
          "output_type": "stream",
          "name": "stdout",
          "text": [
            "Saving payment_report.csv to payment_report (1).csv\n",
            "Saving product.csv to product (1).csv\n",
            "Saving transactions.csv to transactions (1).csv\n"
          ]
        }
      ]
    },
    {
      "cell_type": "markdown",
      "source": [
        "# Gộp payment_report.csv và product.csv"
      ],
      "metadata": {
        "id": "IfLSFN7UVnsL"
      }
    },
    {
      "cell_type": "code",
      "source": [
        "payment_report = pd.read_csv('payment_report.csv')\n",
        "product = pd.read_csv('product.csv')\n",
        "transactions = pd.read_csv('transactions.csv')"
      ],
      "metadata": {
        "id": "C_pkwFWIV8ne"
      },
      "execution_count": null,
      "outputs": []
    },
    {
      "cell_type": "code",
      "source": [
        "payment_enriched = pd.merge(payment_report, product, on='product_id', how='left')"
      ],
      "metadata": {
        "id": "gCR1EwDmbJDK"
      },
      "execution_count": null,
      "outputs": []
    },
    {
      "cell_type": "markdown",
      "source": [
        "# 1. Top 3 product_ids with the highest volume."
      ],
      "metadata": {
        "id": "IpAUBHcQbR2C"
      }
    },
    {
      "cell_type": "code",
      "source": [
        "top3_product_ids = payment_enriched.groupby('product_id')['volume'].sum().nlargest(3)\n",
        "print(\"Top 3 product\\n\", top3_product_ids)"
      ],
      "metadata": {
        "colab": {
          "base_uri": "https://localhost:8080/"
        },
        "id": "NFVQN33ibUOf",
        "outputId": "5dcb3d4e-2df1-444c-9e09-e47ca311a627"
      },
      "execution_count": null,
      "outputs": [
        {
          "output_type": "stream",
          "name": "stdout",
          "text": [
            "Top 3 product\n",
            " product_id\n",
            "1976    61797583647\n",
            "429     14667676567\n",
            "372     13713658515\n",
            "Name: volume, dtype: int64\n"
          ]
        }
      ]
    },
    {
      "cell_type": "markdown",
      "source": [
        "# 2. Check unique product"
      ],
      "metadata": {
        "id": "2T6mA06F7ZUs"
      }
    },
    {
      "cell_type": "code",
      "source": [
        "check_unique_product = payment_enriched.groupby('product_id')['team_own'].nunique()\n",
        "abnormal_products = check_unique_product[check_unique_product > 1]\n",
        "print(\"Abnormal products\\n\", abnormal_products)"
      ],
      "metadata": {
        "colab": {
          "base_uri": "https://localhost:8080/"
        },
        "id": "fTgt9h7H7ojX",
        "outputId": "cd665d40-6348-4c06-b5ea-7ae9b47db093"
      },
      "execution_count": null,
      "outputs": [
        {
          "output_type": "stream",
          "name": "stdout",
          "text": [
            "Abnormal products\n",
            " Series([], Name: team_own, dtype: int64)\n"
          ]
        }
      ]
    },
    {
      "cell_type": "markdown",
      "source": [
        "# 3. Lowest perfomance"
      ],
      "metadata": {
        "id": "sbeElz7O8-6_"
      }
    },
    {
      "cell_type": "code",
      "source": [
        "q2_2023 = payment_enriched[payment_enriched['report_month'] >= '2023-04-01']\n",
        "\n",
        "team_performance = q2_2023.groupby('team_own')['volume'].sum()\n",
        "lowest_performance_team = team_performance.idxmin()\n",
        "print(\"Lowest performance team:\", lowest_performance_team)"
      ],
      "metadata": {
        "colab": {
          "base_uri": "https://localhost:8080/"
        },
        "id": "BEPMaB_N9Kku",
        "outputId": "c7d42d29-c86c-4b23-dd54-2b2206e60830"
      },
      "execution_count": null,
      "outputs": [
        {
          "output_type": "stream",
          "name": "stdout",
          "text": [
            "Lowest performance team: APS\n"
          ]
        }
      ]
    },
    {
      "cell_type": "code",
      "source": [
        "#Find the category that contributes the least to that team.\n",
        "\n",
        "lowest_performance_category = payment_enriched[payment_enriched['team_own'] == lowest_performance_team].groupby('category')['volume'].sum().idxmin()\n",
        "print(\"Category that contributes the least to that team:\", lowest_performance_category)"
      ],
      "metadata": {
        "colab": {
          "base_uri": "https://localhost:8080/"
        },
        "id": "kZMyiAShBCaY",
        "outputId": "f931582f-3e4a-404c-fefd-d5f16f5ccadb"
      },
      "execution_count": null,
      "outputs": [
        {
          "output_type": "stream",
          "name": "stdout",
          "text": [
            "Category that contributes the least to that team: PXXXXXS\n"
          ]
        }
      ]
    },
    {
      "cell_type": "markdown",
      "source": [
        "# 4. Find the contribution of source_ids of refund transactions"
      ],
      "metadata": {
        "id": "xkseckGTBgGv"
      }
    },
    {
      "cell_type": "code",
      "source": [
        "refund =  payment_enriched[payment_enriched['payment_group'] == 'refund']\n",
        "print(\"Refund transactions\\n\", refund)"
      ],
      "metadata": {
        "colab": {
          "base_uri": "https://localhost:8080/"
        },
        "collapsed": true,
        "id": "xidNMTAsBl10",
        "outputId": "c8f52a84-db92-46ff-e980-9e2796a0f6bb"
      },
      "execution_count": null,
      "outputs": [
        {
          "output_type": "stream",
          "name": "stdout",
          "text": [
            "Refund transactions\n",
            "     report_month payment_group  product_id  source_id       volume category  \\\n",
            "192   2023-01-01        refund        1976         37    852173308      NaN   \n",
            "193   2023-01-01        refund        1976         38   3520890417      NaN   \n",
            "194   2023-01-01        refund        1976         39    443387276      NaN   \n",
            "195   2023-01-01        refund        1976         39    111281678      NaN   \n",
            "409   2023-02-01        refund        1976         39       111500      NaN   \n",
            "410   2023-02-01        refund        1976         37   1794436949      NaN   \n",
            "411   2023-02-01        refund        1976         38   7522440976      NaN   \n",
            "412   2023-02-01        refund        1976         39    910819764      NaN   \n",
            "413   2023-02-01        refund        1976         39   2675894726      NaN   \n",
            "634   2023-03-01        refund        1976         37   2962187382      NaN   \n",
            "635   2023-03-01        refund        1976         38  11652415177      NaN   \n",
            "636   2023-03-01        refund        1976         39   1660931261      NaN   \n",
            "637   2023-03-01        refund        1976         39   4731275843      NaN   \n",
            "915   2023-04-01        refund        1976         37   3542271587      NaN   \n",
            "916   2023-04-01        refund        1976         38  13831708189      NaN   \n",
            "917   2023-04-01        refund        1976         39   1905435543      NaN   \n",
            "918   2023-04-01        refund        1976         39   3679922071      NaN   \n",
            "\n",
            "    team_own  \n",
            "192      NaN  \n",
            "193      NaN  \n",
            "194      NaN  \n",
            "195      NaN  \n",
            "409      NaN  \n",
            "410      NaN  \n",
            "411      NaN  \n",
            "412      NaN  \n",
            "413      NaN  \n",
            "634      NaN  \n",
            "635      NaN  \n",
            "636      NaN  \n",
            "637      NaN  \n",
            "915      NaN  \n",
            "916      NaN  \n",
            "917      NaN  \n",
            "918      NaN  \n"
          ]
        }
      ]
    },
    {
      "cell_type": "code",
      "source": [
        "#what is the source_id with the highest contribution?\n",
        "\n",
        "source_contribution = refund.groupby('source_id')['volume'].sum()\n",
        "highest_contributing_source = source_contribution.idxmax()\n",
        "print(\"Source ID with the highest contribution:\", highest_contributing_source)"
      ],
      "metadata": {
        "colab": {
          "base_uri": "https://localhost:8080/"
        },
        "id": "s1EMry-rCgbN",
        "outputId": "63476eab-70e8-44b4-8e09-e29084f6b2a1"
      },
      "execution_count": null,
      "outputs": [
        {
          "output_type": "stream",
          "name": "stdout",
          "text": [
            "Source ID with the highest contribution: 38\n"
          ]
        }
      ]
    },
    {
      "cell_type": "markdown",
      "source": [
        "# 5. Define type of transactions (‘transaction_type’) for each row"
      ],
      "metadata": {
        "id": "aSetn_VyC-tZ"
      }
    },
    {
      "cell_type": "code",
      "source": [
        "def classify_transaction(row):\n",
        "  if row['transType'] == 2:\n",
        "        if row['merchant_id'] == 1205:\n",
        "            return 'Bank Transfer Transaction'\n",
        "        elif row['merchant_id'] == 2260:\n",
        "            return 'Withdraw Money Transaction'\n",
        "        elif row['merchant_id'] == 2270:\n",
        "            return 'Top Up Money Transaction'\n",
        "        else:\n",
        "            return 'Payment Transaction'\n",
        "  elif row['transType'] == 8:\n",
        "        if row['merchant_id'] == 2250:\n",
        "            return 'Transfer Money Transaction'\n",
        "        else:\n",
        "            return 'Split Bill Transaction'\n",
        "  else:\n",
        "        return 'Invalid Transaction'\n",
        "\n",
        "transType = int(input(\"Enter transType: \"))\n",
        "merchantid = int(input(\"Enter merchant_id: \"))\n",
        "row = {'transType': transType, 'merchant_id': merchantid}\n",
        "print(classify_transaction(row))\n",
        "\n"
      ],
      "metadata": {
        "colab": {
          "base_uri": "https://localhost:8080/"
        },
        "id": "ipfKfanvDBFi",
        "outputId": "aedd0dc8-8d11-4df8-d881-0b08f06d0b20"
      },
      "execution_count": null,
      "outputs": [
        {
          "output_type": "stream",
          "name": "stdout",
          "text": [
            "Enter transType: 2\n",
            "Enter merchant_id: 2270\n",
            "Top Up Money Transaction\n"
          ]
        }
      ]
    },
    {
      "cell_type": "markdown",
      "source": [
        "# 6. Of each transaction type (excluding invalid transactions): find the number of transactions, volume, senders and receivers."
      ],
      "metadata": {
        "id": "B_Q1B8BRFJBR"
      }
    },
    {
      "cell_type": "code",
      "source": [
        "transaction_summary = transactions.groupby('transType').agg(\n",
        "    num_transactions=('transaction_id', 'count'),\n",
        "    total_volume=('volume', 'sum'),\n",
        "    unique_senders=('sender_id', 'nunique'),\n",
        "    unique_receivers=('receiver_id', 'nunique')\n",
        ")\n",
        "print(transaction_summary)\n"
      ],
      "metadata": {
        "colab": {
          "base_uri": "https://localhost:8080/"
        },
        "id": "R7MphNQyFMRs",
        "outputId": "7bc6df32-ffe2-413b-8432-1fb01c2619f7"
      },
      "execution_count": null,
      "outputs": [
        {
          "output_type": "stream",
          "name": "stdout",
          "text": [
            "           num_transactions  total_volume  unique_senders  unique_receivers\n",
            "transType                                                                  \n",
            "2                    760783  254481981620          166928            171183\n",
            "8                    342553   37038072956           40203             34948\n",
            "12                       10       3091173              10                10\n",
            "14                       10        291604              10                10\n",
            "22                   202383   15437222098              18             84039\n",
            "24                     3677    3025743908            2671              2671\n",
            "30                    14586    6193059604               0              5690\n"
          ]
        }
      ]
    }
  ]
}